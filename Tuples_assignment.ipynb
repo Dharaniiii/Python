{
 "cells": [
  {
   "cell_type": "code",
   "execution_count": 3,
   "id": "4590fc36",
   "metadata": {},
   "outputs": [
    {
     "data": {
      "text/plain": [
       "{4: 2, 5: 3, 6: 2}"
      ]
     },
     "execution_count": 3,
     "metadata": {},
     "output_type": "execute_result"
    }
   ],
   "source": [
    "#1.\tFind elements frequency in Tuple\n",
    "\n",
    "t=(4, 5, 4, 5, 6, 6, 5)\n",
    "a=set(t)\n",
    "d={}\n",
    "for i in a:\n",
    "    d[i]=t.count(i)\n",
    "d\n"
   ]
  },
  {
   "cell_type": "code",
   "execution_count": 14,
   "id": "ca5e3001",
   "metadata": {},
   "outputs": [
    {
     "data": {
      "text/plain": [
       "[('aa', 30), ('aaaa', 28), ('bab', 29), ('bb', 21), ('csa', 'C')]"
      ]
     },
     "execution_count": 14,
     "metadata": {},
     "output_type": "execute_result"
    }
   ],
   "source": [
    "#2.\tPython program to sort a list of tuples alphabetically\n",
    "Input=[(\"aaaa\", 28), (\"aa\", 30), (\"bab\", 29), (\"bb\", 21), (\"csa\", \"C\")]\n",
    "a=sorted(Input)\n",
    "a"
   ]
  },
  {
   "cell_type": "code",
   "execution_count": 21,
   "id": "a58fc410",
   "metadata": {},
   "outputs": [
    {
     "data": {
      "text/plain": [
       "[25.5, -18.0, 3.75]"
      ]
     },
     "execution_count": 21,
     "metadata": {},
     "output_type": "execute_result"
    }
   ],
   "source": [
    "#3.\tWrite a Python program to calculate the average value of the numbers in a given tuple of tuples\n",
    "def average_tuple(O):\n",
    "    result=[sum(x)/len(x) for x in zip(*O)]\n",
    "    return result\n",
    "O=((1, 1, -5),(30, -15, 56),(81, -60, -39),(-10, 2, 3))\n",
    "average_tuple(O)"
   ]
  },
  {
   "cell_type": "code",
   "execution_count": null,
   "id": "69aefe31",
   "metadata": {},
   "outputs": [],
   "source": []
  }
 ],
 "metadata": {
  "kernelspec": {
   "display_name": "Python 3 (ipykernel)",
   "language": "python",
   "name": "python3"
  },
  "language_info": {
   "codemirror_mode": {
    "name": "ipython",
    "version": 3
   },
   "file_extension": ".py",
   "mimetype": "text/x-python",
   "name": "python",
   "nbconvert_exporter": "python",
   "pygments_lexer": "ipython3",
   "version": "3.9.12"
  }
 },
 "nbformat": 4,
 "nbformat_minor": 5
}
